{
 "cells": [
  {
   "cell_type": "code",
   "execution_count": 2,
   "metadata": {
    "scrolled": true
   },
   "outputs": [
    {
     "ename": "TypeError",
     "evalue": "required field \"type_ignores\" missing from Module",
     "output_type": "error",
     "traceback": [
      "\u001b[0;31m---------------------------------------------------------------------------\u001b[0m",
      "\u001b[0;31mTypeError\u001b[0m                                 Traceback (most recent call last)",
      "\u001b[0;32m/home/jason/anaconda3/lib/python3.8/codeop.py\u001b[0m in \u001b[0;36m__call__\u001b[0;34m(self, source, filename, symbol)\u001b[0m\n\u001b[1;32m    134\u001b[0m \u001b[0;34m\u001b[0m\u001b[0m\n\u001b[1;32m    135\u001b[0m     \u001b[0;32mdef\u001b[0m \u001b[0m__call__\u001b[0m\u001b[0;34m(\u001b[0m\u001b[0mself\u001b[0m\u001b[0;34m,\u001b[0m \u001b[0msource\u001b[0m\u001b[0;34m,\u001b[0m \u001b[0mfilename\u001b[0m\u001b[0;34m,\u001b[0m \u001b[0msymbol\u001b[0m\u001b[0;34m)\u001b[0m\u001b[0;34m:\u001b[0m\u001b[0;34m\u001b[0m\u001b[0;34m\u001b[0m\u001b[0m\n\u001b[0;32m--> 136\u001b[0;31m         \u001b[0mcodeob\u001b[0m \u001b[0;34m=\u001b[0m \u001b[0mcompile\u001b[0m\u001b[0;34m(\u001b[0m\u001b[0msource\u001b[0m\u001b[0;34m,\u001b[0m \u001b[0mfilename\u001b[0m\u001b[0;34m,\u001b[0m \u001b[0msymbol\u001b[0m\u001b[0;34m,\u001b[0m \u001b[0mself\u001b[0m\u001b[0;34m.\u001b[0m\u001b[0mflags\u001b[0m\u001b[0;34m,\u001b[0m \u001b[0;36m1\u001b[0m\u001b[0;34m)\u001b[0m\u001b[0;34m\u001b[0m\u001b[0;34m\u001b[0m\u001b[0m\n\u001b[0m\u001b[1;32m    137\u001b[0m         \u001b[0;32mfor\u001b[0m \u001b[0mfeature\u001b[0m \u001b[0;32min\u001b[0m \u001b[0m_features\u001b[0m\u001b[0;34m:\u001b[0m\u001b[0;34m\u001b[0m\u001b[0;34m\u001b[0m\u001b[0m\n\u001b[1;32m    138\u001b[0m             \u001b[0;32mif\u001b[0m \u001b[0mcodeob\u001b[0m\u001b[0;34m.\u001b[0m\u001b[0mco_flags\u001b[0m \u001b[0;34m&\u001b[0m \u001b[0mfeature\u001b[0m\u001b[0;34m.\u001b[0m\u001b[0mcompiler_flag\u001b[0m\u001b[0;34m:\u001b[0m\u001b[0;34m\u001b[0m\u001b[0;34m\u001b[0m\u001b[0m\n",
      "\u001b[0;31mTypeError\u001b[0m: required field \"type_ignores\" missing from Module"
     ]
    }
   ],
   "source": [
    "import py_entitymatching as em"
   ]
  },
  {
   "cell_type": "markdown",
   "metadata": {},
   "source": [
    "# Down Sampling"
   ]
  },
  {
   "cell_type": "code",
   "execution_count": null,
   "metadata": {
    "scrolled": true
   },
   "outputs": [],
   "source": [
    "# Read the CSV files\n",
    "A = em.read_csv_metadata('./data/csv_example_messy_input.csv', key='Id')\n",
    "print(len(A))\n",
    "\n",
    "# Downsample the datasets\n",
    "# y_param: Control the down sample size of table sample_A.\n",
    "sample_A, sample_B = em.down_sample(A, A, \n",
    "                                    size=500, \n",
    "                                    y_param=1)\n",
    "\n",
    "print(len(sample_A), len(sample_B))"
   ]
  },
  {
   "cell_type": "markdown",
   "metadata": {},
   "source": [
    "# Blocker"
   ]
  },
  {
   "cell_type": "code",
   "execution_count": null,
   "metadata": {},
   "outputs": [],
   "source": [
    "# Attribute Equivalence Blocker\n",
    "# output_attrs: A list of attribute names from the table to be included in the output candidate set\n",
    "ab = em.AttrEquivalenceBlocker()\n",
    "C0 = ab.block_tables(sample_A, sample_B, \n",
    "                     'Phone', 'Phone', \n",
    "                     l_output_attrs=['Site name', 'Address', 'Phone', 'Zip'], \n",
    "                     r_output_attrs=['Site name', 'Address', 'Phone', 'Zip'])\n",
    "C0.head()"
   ]
  },
  {
   "cell_type": "code",
   "execution_count": null,
   "metadata": {},
   "outputs": [],
   "source": [
    "# Overlap Blocker\n",
    "# word_level: Whether the overlap attributes should be tokenized as words\n",
    "ob = em.OverlapBlocker()\n",
    "C1 = ob.block_tables(sample_A, sample_B, \n",
    "                     'Address', 'Address', \n",
    "                     word_level=True,\n",
    "                     overlap_size=2, \n",
    "                     l_output_attrs=['Site name', 'Address', 'Phone', 'Zip'], \n",
    "                     r_output_attrs=['Site name', 'Address', 'Phone', 'Zip'])\n",
    "C1.head()"
   ]
  },
  {
   "cell_type": "code",
   "execution_count": 2,
   "metadata": {
    "scrolled": false
   },
   "outputs": [
    {
     "ename": "TypeError",
     "evalue": "required field \"type_ignores\" missing from Module",
     "output_type": "error",
     "traceback": [
      "\u001b[0;31m---------------------------------------------------------------------------\u001b[0m",
      "\u001b[0;31mTypeError\u001b[0m                                 Traceback (most recent call last)",
      "\u001b[0;32m/home/jason/anaconda3/lib/python3.8/codeop.py\u001b[0m in \u001b[0;36m__call__\u001b[0;34m(self, source, filename, symbol)\u001b[0m\n\u001b[1;32m    134\u001b[0m \u001b[0;34m\u001b[0m\u001b[0m\n\u001b[1;32m    135\u001b[0m     \u001b[0;32mdef\u001b[0m \u001b[0m__call__\u001b[0m\u001b[0;34m(\u001b[0m\u001b[0mself\u001b[0m\u001b[0;34m,\u001b[0m \u001b[0msource\u001b[0m\u001b[0;34m,\u001b[0m \u001b[0mfilename\u001b[0m\u001b[0;34m,\u001b[0m \u001b[0msymbol\u001b[0m\u001b[0;34m)\u001b[0m\u001b[0;34m:\u001b[0m\u001b[0;34m\u001b[0m\u001b[0;34m\u001b[0m\u001b[0m\n\u001b[0;32m--> 136\u001b[0;31m         \u001b[0mcodeob\u001b[0m \u001b[0;34m=\u001b[0m \u001b[0mcompile\u001b[0m\u001b[0;34m(\u001b[0m\u001b[0msource\u001b[0m\u001b[0;34m,\u001b[0m \u001b[0mfilename\u001b[0m\u001b[0;34m,\u001b[0m \u001b[0msymbol\u001b[0m\u001b[0;34m,\u001b[0m \u001b[0mself\u001b[0m\u001b[0;34m.\u001b[0m\u001b[0mflags\u001b[0m\u001b[0;34m,\u001b[0m \u001b[0;36m1\u001b[0m\u001b[0;34m)\u001b[0m\u001b[0;34m\u001b[0m\u001b[0;34m\u001b[0m\u001b[0m\n\u001b[0m\u001b[1;32m    137\u001b[0m         \u001b[0;32mfor\u001b[0m \u001b[0mfeature\u001b[0m \u001b[0;32min\u001b[0m \u001b[0m_features\u001b[0m\u001b[0;34m:\u001b[0m\u001b[0;34m\u001b[0m\u001b[0;34m\u001b[0m\u001b[0m\n\u001b[1;32m    138\u001b[0m             \u001b[0;32mif\u001b[0m \u001b[0mcodeob\u001b[0m\u001b[0;34m.\u001b[0m\u001b[0mco_flags\u001b[0m \u001b[0;34m&\u001b[0m \u001b[0mfeature\u001b[0m\u001b[0;34m.\u001b[0m\u001b[0mcompiler_flag\u001b[0m\u001b[0;34m:\u001b[0m\u001b[0;34m\u001b[0m\u001b[0;34m\u001b[0m\u001b[0m\n",
      "\u001b[0;31mTypeError\u001b[0m: required field \"type_ignores\" missing from Module"
     ]
    }
   ],
   "source": [
    "# Blackbox Blockers\n",
    "def match_func(ltuple, rtuple):\n",
    "    l_phone, l_zip = ltuple['Phone'], ltuple['Zip']\n",
    "    r_phone, r_zip = rtuple['Phone'], rtuple['Zip']\n",
    "    if l_phone != r_phone and l_zip != r_zip:\n",
    "        return True\n",
    "    else:\n",
    "        return False\n",
    "\n",
    "\n",
    "bb = em.BlackBoxBlocker()\n",
    "bb.set_black_box_function(match_func)\n",
    "C2 = bb.block_tables(sample_A, sample_B, \n",
    "                     l_output_attrs=['Site name', 'Address', 'Phone', 'Zip'], \n",
    "                     r_output_attrs=['Site name', 'Address', 'Phone', 'Zip'])\n",
    "C2.head()"
   ]
  },
  {
   "cell_type": "code",
   "execution_count": null,
   "metadata": {},
   "outputs": [],
   "source": [
    "# Generates features that can be used for blocking purposes\n",
    "# Whether to show the user the inferred attribute types and the features chosen for those types.\n",
    "block_f = em.get_features_for_blocking(sample_A, sample_B, \n",
    "                                       validate_inferred_attr_types=False)\n",
    "block_f"
   ]
  },
  {
   "cell_type": "code",
   "execution_count": null,
   "metadata": {},
   "outputs": [],
   "source": [
    "# Rule-Based Blocker\n",
    "rule1 = ['Address_Address_lev_dist(ltuple, rtuple) > 5']\n",
    "\n",
    "rb = em.RuleBasedBlocker()\n",
    "rb.add_rule(rule1, block_f)\n",
    "\n",
    "C3 = rb.block_tables(sample_A, sample_B, \n",
    "                     l_output_attrs=['Site name', 'Address', 'Phone', 'Zip'], \n",
    "                     r_output_attrs=['Site name', 'Address', 'Phone', 'Zip'])\n",
    "C3.head()"
   ]
  },
  {
   "cell_type": "code",
   "execution_count": null,
   "metadata": {},
   "outputs": [],
   "source": [
    "# Combining Multiple Blockers\n",
    "ab = em.AttrEquivalenceBlocker()\n",
    "C0 = ab.block_tables(sample_A, sample_B, \n",
    "                     'Phone', 'Phone', \n",
    "                     l_output_attrs=['Site name', 'Address', 'Phone', 'Zip'], \n",
    "                     r_output_attrs=['Site name', 'Address', 'Phone', 'Zip'])\n",
    "\n",
    "\n",
    "ob = em.OverlapBlocker()\n",
    "C4 = ob.block_candset(C0, \n",
    "                      'Address', 'Address', \n",
    "                      word_level=True, \n",
    "                      overlap_size=2)\n",
    "C4.head()"
   ]
  },
  {
   "cell_type": "markdown",
   "metadata": {},
   "source": [
    "# Sampling and Labeling"
   ]
  },
  {
   "cell_type": "code",
   "execution_count": null,
   "metadata": {},
   "outputs": [],
   "source": [
    "# Read the CSV files\n",
    "A = em.read_csv_metadata('./data/csv_example_messy_input.csv', key='Id')\n",
    "# Downsample the datasets\n",
    "sample_A, sample_B = em.down_sample(A, A, size=500, y_param=1, show_progress=False)\n",
    "\n",
    "\n",
    "def match_func(ltuple, rtuple):\n",
    "    l_phone, l_zip = ltuple['Phone'], ltuple['Zip']\n",
    "    r_phone, r_zip = rtuple['Phone'], rtuple['Zip']\n",
    "    if l_phone != r_phone and l_zip != r_zip:\n",
    "        return True\n",
    "    else:\n",
    "        return False\n",
    "\n",
    "\n",
    "bb = em.BlackBoxBlocker()\n",
    "bb.set_black_box_function(match_func)\n",
    "C = bb.block_tables(sample_A, sample_B, \n",
    "                    l_output_attrs=['Site name', 'Address', 'Phone', 'Zip'], \n",
    "                    r_output_attrs=['Site name', 'Address', 'Phone', 'Zip'])\n",
    "\n",
    "ob = em.OverlapBlocker()\n",
    "C1 = ob.block_candset(C, 'Address', 'Address', word_level=True, overlap_size=2)\n",
    "\n",
    "# Sample Candidate Set\n",
    "S = em.sample_table(C1, 450)\n",
    "\n",
    "# Label the sampled set\n",
    "# Specify the name for the label column\n",
    "G = em.label_table(S, 'label')\n",
    "\n",
    "save_file = False\n",
    "if save_file:\n",
    "    em.to_csv_metadata(sample_A, './data/a.csv')\n",
    "    em.to_csv_metadata(sample_B, './data/b.csv')\n",
    "    em.to_csv_metadata(G, './data/labelled_data.csv')"
   ]
  },
  {
   "cell_type": "markdown",
   "metadata": {},
   "source": [
    "# Matcher"
   ]
  },
  {
   "cell_type": "code",
   "execution_count": null,
   "metadata": {},
   "outputs": [],
   "source": [
    "# Read the CSV files\n",
    "sample_A = em.read_csv_metadata('./data/a.csv', key='Id')\n",
    "sample_B = em.read_csv_metadata('./data/b.csv', key='Id')\n",
    "\n",
    "G = em.read_csv_metadata('./data/labelled_data.csv', key='_id', fk_ltable='ltable_Id', fk_rtable='rtable_Id',\n",
    "                         ltable=sample_A, rtable=sample_B)"
   ]
  },
  {
   "cell_type": "code",
   "execution_count": null,
   "metadata": {},
   "outputs": [],
   "source": [
    "# Generate a set of features\n",
    "F = em.get_features_for_matching(sample_A, sample_B, validate_inferred_attr_types=False)\n",
    "F.feature_name"
   ]
  },
  {
   "cell_type": "code",
   "execution_count": null,
   "metadata": {},
   "outputs": [],
   "source": [
    "# Convert the G into a set of feature vectors using F\n",
    "# attrs_after: List of attributes from the input candset that should be added after the feature vectors\n",
    "H = em.extract_feature_vecs(G,\n",
    "                            feature_table=F,\n",
    "                            attrs_after='label',\n",
    "                            show_progress=False)\n",
    "H.head()"
   ]
  },
  {
   "cell_type": "code",
   "execution_count": null,
   "metadata": {},
   "outputs": [],
   "source": [
    "# Impute feature vectors with the mean of the column values.\n",
    "H = em.impute_table(H,\n",
    "                    exclude_attrs=['_id', 'ltable_Id', 'rtable_Id', 'label'],\n",
    "                    strategy='mean')"
   ]
  },
  {
   "cell_type": "code",
   "execution_count": null,
   "metadata": {},
   "outputs": [],
   "source": [
    "# Create a set of ML-matchers\n",
    "dt = em.DTMatcher(name='DecisionTree')\n",
    "svm = em.SVMMatcher(name='SVM')\n",
    "rf = em.RFMatcher(name='RF')\n",
    "lg = em.LogRegMatcher(name='LogReg')\n",
    "ln = em.LinRegMatcher(name='LinReg')\n",
    "\n",
    "# Select the best ML matcher using CV\n",
    "# k: The k value for cross-validation\n",
    "result = em.select_matcher([dt, rf, svm, ln, lg], table=H,\n",
    "                           exclude_attrs=['_id', 'ltable_Id', 'rtable_Id', 'label'],\n",
    "                           k=5,\n",
    "                           target_attr='label')\n",
    "print(result['cv_stats'])"
   ]
  },
  {
   "cell_type": "markdown",
   "metadata": {},
   "source": [
    "# Entity Matching"
   ]
  },
  {
   "cell_type": "code",
   "execution_count": null,
   "metadata": {},
   "outputs": [],
   "source": [
    "import py_entitymatching as em\n",
    "\n",
    "# Read the CSV files\n",
    "A = em.read_csv_metadata('./data/csv_example_input_with_true_ids.csv', key='Id')\n",
    "A_0 = em.read_csv_metadata('./data/csv_example_messy_input.csv', key='Id')\n",
    "\n",
    "\n",
    "def match_func(ltuple, rtuple):\n",
    "    l_phone, l_zip = ltuple['Phone'], ltuple['Zip']\n",
    "    r_phone, r_zip = rtuple['Phone'], rtuple['Zip']\n",
    "    if l_phone != r_phone and l_zip != r_zip:\n",
    "        return True\n",
    "    else:\n",
    "        return False\n",
    "\n",
    "\n",
    "has_label = True\n",
    "if not has_label:\n",
    "    # Combining Multiple Blockers\n",
    "    bb = em.BlackBoxBlocker()\n",
    "    bb.set_black_box_function(match_func)\n",
    "    C = bb.block_tables(A, A,\n",
    "                        l_output_attrs=['Site name', 'Address', 'Zip', 'Phone', 'True Id'],\n",
    "                        r_output_attrs=['Site name', 'Address', 'Zip', 'Phone', 'True Id'])\n",
    "\n",
    "    ob = em.OverlapBlocker()\n",
    "    C1 = ob.block_candset(C,\n",
    "                          'Address', 'Address',\n",
    "                          word_level=True,\n",
    "                          overlap_size=2)\n",
    "\n",
    "    em.to_csv_metadata(C1, './data/block_tables.csv')\n",
    "\n",
    "    # Sample Candidate Set\n",
    "    S = em.sample_table(C1, 400)\n",
    "\n",
    "    # Label the sampled set\n",
    "    # Specify the name for the label column\n",
    "    G = em.label_table(S, 'label')\n",
    "    em.to_csv_metadata(G, './data/labelled_data_full.csv')\n",
    "\n",
    "else:\n",
    "    G = em.read_csv_metadata('./data/labelled_data_full.csv',\n",
    "                             key='_id',\n",
    "                             fk_ltable='ltable_Id', fk_rtable='rtable_Id',\n",
    "                             ltable=A_0, rtable=A_0)\n",
    "    C = em.read_csv_metadata('./data/block_tables.csv',\n",
    "                             key='_id',\n",
    "                             fk_ltable='ltable_Id', fk_rtable='rtable_Id',\n",
    "                             ltable=A_0, rtable=A_0)\n",
    "\n",
    "    train_test = em.split_train_test(G, train_proportion=0.7)\n",
    "    devel_set = train_test['train']\n",
    "    eval_set = train_test['test']\n",
    "\n",
    "    # Generate a set of features\n",
    "    F = em.get_features_for_matching(A_0, A_0, validate_inferred_attr_types=False)\n",
    "    \n",
    "    # Convert the data into a set of feature vectors using F\n",
    "    H_train = em.extract_feature_vecs(devel_set, \n",
    "                                      feature_table=F, \n",
    "                                      attrs_after='label')\n",
    "    H_eval = em.extract_feature_vecs(eval_set, \n",
    "                                     feature_table=F, \n",
    "                                     attrs_after='label')\n",
    "    C_test = em.extract_feature_vecs(C, \n",
    "                                     feature_table=F)\n",
    "\n",
    "    # Impute feature vectors with the mean of the column values.\n",
    "    H_train = em.impute_table(H_train,\n",
    "                              exclude_attrs=['_id', 'ltable_Id', 'rtable_Id', 'label'],\n",
    "                              strategy='mean')\n",
    "    H_eval = em.impute_table(H_eval,\n",
    "                             exclude_attrs=['_id', 'ltable_Id', 'rtable_Id', 'label'],\n",
    "                             strategy='mean')\n",
    "    C_test = em.impute_table(C_test,\n",
    "                             exclude_attrs=['_id', 'ltable_Id', 'rtable_Id'],\n",
    "                             strategy='mean')\n",
    "\n",
    "    # Train Matcher\n",
    "    rf = em.RFMatcher(name='RF')\n",
    "    rf.fit(table=H_train,\n",
    "           exclude_attrs=['_id', 'ltable_Id', 'rtable_Id', 'label'],\n",
    "           target_attr='label')\n",
    "\n",
    "    # Test1\n",
    "    pred_table = rf.predict(table=H_eval,\n",
    "                            exclude_attrs=['_id', 'ltable_Id', 'rtable_Id', 'label'],\n",
    "                            append=True,\n",
    "                            target_attr='predicted_labels')\n",
    "\n",
    "    eval_summary = em.eval_matches(pred_table, 'label', 'predicted_labels')\n",
    "    print(eval_summary)\n",
    "\n",
    "    # Test2\n",
    "    pred_table = rf.predict(table=C_test,\n",
    "                            exclude_attrs=['_id', 'ltable_Id', 'rtable_Id'],\n",
    "                            append=True, \n",
    "                            target_attr='predicted_labels')\n",
    "    em.to_csv_metadata(C_test, './data/result.csv')"
   ]
  },
  {
   "cell_type": "markdown",
   "metadata": {},
   "source": [
    "# Evaluation"
   ]
  },
  {
   "cell_type": "code",
   "execution_count": null,
   "metadata": {},
   "outputs": [],
   "source": [
    "from future.utils import viewitems\n",
    "\n",
    "import csv\n",
    "import collections\n",
    "import itertools\n",
    "\n",
    "\n",
    "def evaluateDuplicates(found_dupes, true_dupes):\n",
    "    true_positives = found_dupes.intersection(true_dupes)\n",
    "    false_positives = found_dupes.difference(true_dupes)\n",
    "    uncovered_dupes = true_dupes.difference(found_dupes)\n",
    "\n",
    "    print('found duplicate')\n",
    "    print(len(found_dupes))\n",
    "\n",
    "    print('precision')\n",
    "    print(1 - len(false_positives) / float(len(found_dupes)))\n",
    "\n",
    "    print('recall')\n",
    "    print(len(true_positives) / float(len(true_dupes)))\n",
    "\n",
    "\n",
    "def mydupePairs(filename):\n",
    "    dupe_s = set([])\n",
    "    with open(filename,encoding='utf-8') as f:\n",
    "        reader = csv.DictReader(f, delimiter=',', quotechar='\"')\n",
    "        for row in reader:\n",
    "            ltable_Id = row['ltable_Id']\n",
    "            rtable_Id = row['rtable_Id']\n",
    "            if row['predicted_labels'] == '1':\n",
    "                pair = {ltable_Id, rtable_Id}\n",
    "                if len(pair) > 1:\n",
    "                    dupe_s.add(frozenset(pair))\n",
    "    return dupe_s\n",
    "\n",
    "\n",
    "def dupePairs(filename, rowname) :\n",
    "    dupe_d = collections.defaultdict(list)\n",
    "\n",
    "    with open(filename,encoding='utf-8') as f:\n",
    "        reader = csv.DictReader(f, delimiter=',', quotechar='\"')\n",
    "        for row in reader:\n",
    "            dupe_d[row[rowname]].append(row['Id'])\n",
    "\n",
    "    if 'x' in dupe_d :\n",
    "        del dupe_d['x']\n",
    "\n",
    "    dupe_s = set([])\n",
    "    for (unique_id, cluster) in viewitems(dupe_d):\n",
    "        if len(cluster) > 1:\n",
    "            for pair in itertools.combinations(cluster, 2):\n",
    "                dupe_s.add(frozenset(pair))\n",
    "\n",
    "    return dupe_s\n",
    "\n",
    "manual_clusters = './data/csv_example_input_with_true_ids.csv'\n",
    "dedupe_clusters = './data/result.csv'\n",
    "\n",
    "true_dupes = dupePairs(manual_clusters, 'True Id')\n",
    "\n",
    "test_dupes = mydupePairs(dedupe_clusters)\n",
    "\n",
    "evaluateDuplicates(test_dupes, true_dupes)"
   ]
  }
 ],
 "metadata": {
  "kernelspec": {
   "display_name": "Python [conda env:root] *",
   "language": "python",
   "name": "conda-root-py"
  },
  "language_info": {
   "codemirror_mode": {
    "name": "ipython",
    "version": 3
   },
   "file_extension": ".py",
   "mimetype": "text/x-python",
   "name": "python",
   "nbconvert_exporter": "python",
   "pygments_lexer": "ipython3",
   "version": "3.8.3"
  }
 },
 "nbformat": 4,
 "nbformat_minor": 4
}
